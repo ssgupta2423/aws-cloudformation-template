{
  "nbformat": 4,
  "nbformat_minor": 0,
  "metadata": {
    "colab": {
      "name": "Top 15 Python Programming Questions & Solutions - Video.ipynb",
      "provenance": [],
      "collapsed_sections": [
        "wP2FnhDQUURm",
        "Xs1ryZtSUcG-",
        "fPmZtcqtUgoi",
        "ASIN5izeXLJF",
        "esezmKV5UaIS",
        "Zic-OD2cVtl7",
        "xeVnKsWnYaSU",
        "K4PQ3xv3gfrj",
        "N47nMS13Iciq",
        "UjoQeJPaOhD6",
        "epwFjtSaUSD0",
        "tFriBTxXWdy2",
        "OCkot9gef2NI",
        "rqeSHeathnl-",
        "g5nsRc9Phauq"
      ],
      "include_colab_link": true
    },
    "kernelspec": {
      "name": "python3",
      "display_name": "Python 3"
    },
    "accelerator": "GPU"
  },
  "cells": [
    {
      "cell_type": "markdown",
      "metadata": {
        "id": "view-in-github",
        "colab_type": "text"
      },
      "source": [
        "<a href=\"https://colab.research.google.com/github/ssgupta2423/aws-cloudformation-template/blob/master/Top_15_Python_Programming_Questions_%26_Solutions_Video.ipynb\" target=\"_parent\"><img src=\"https://colab.research.google.com/assets/colab-badge.svg\" alt=\"Open In Colab\"/></a>"
      ]
    },
    {
      "cell_type": "markdown",
      "metadata": {
        "id": "wP2FnhDQUURm"
      },
      "source": [
        "#1. Write a Python Program to print Prime Numbers between 100 and 200 ( Hint: for loop) "
      ]
    },
    {
      "cell_type": "code",
      "metadata": {
        "id": "WtK41LFBOmyV",
        "colab": {
          "base_uri": "https://localhost:8080/",
          "height": 399
        },
        "outputId": "9f924ff3-a883-4bc5-b0cd-f508fbb6fd50"
      },
      "source": [
        "for num in range(100,200):\n",
        "    if all(num%i!=0 for i in range (2,num)):\n",
        "        print(num)"
      ],
      "execution_count": null,
      "outputs": [
        {
          "output_type": "stream",
          "text": [
            "101\n",
            "103\n",
            "107\n",
            "109\n",
            "113\n",
            "127\n",
            "131\n",
            "137\n",
            "139\n",
            "149\n",
            "151\n",
            "157\n",
            "163\n",
            "167\n",
            "173\n",
            "179\n",
            "181\n",
            "191\n",
            "193\n",
            "197\n",
            "199\n"
          ],
          "name": "stdout"
        }
      ]
    },
    {
      "cell_type": "markdown",
      "metadata": {
        "id": "Xs1ryZtSUcG-"
      },
      "source": [
        "#2. Write a Sort function to sort the elements in a list"
      ]
    },
    {
      "cell_type": "code",
      "metadata": {
        "id": "ZtZ9WKA1Qf7r",
        "colab": {
          "base_uri": "https://localhost:8080/",
          "height": 35
        },
        "outputId": "94f9b578-7a02-4c7d-e86b-4ab124b7940d"
      },
      "source": [
        "l = [24, 55, 78, 64, 25, 12, 22, 11, 1,2,44,3,122, 23, 34]\n",
        "l.sort(reverse = True)\n",
        "\n",
        "print(l)"
      ],
      "execution_count": null,
      "outputs": [
        {
          "output_type": "stream",
          "text": [
            "[122, 78, 64, 55, 44, 34, 25, 24, 23, 22, 12, 11, 3, 2, 1]\n"
          ],
          "name": "stdout"
        }
      ]
    },
    {
      "cell_type": "markdown",
      "metadata": {
        "id": "fPmZtcqtUgoi"
      },
      "source": [
        "#3. Write a sorting function without using the list.sort function (descending order)\n"
      ]
    },
    {
      "cell_type": "code",
      "metadata": {
        "id": "TPMIibqlVZAo",
        "colab": {
          "base_uri": "https://localhost:8080/",
          "height": 35
        },
        "outputId": "1984fa9c-95a8-4647-c291-2c39b218dd52"
      },
      "source": [
        "data_list =  [24, 55, 78, 64, 25, 12, 22, 11, 1,2,44,3,122, 23, 34]\n",
        "new_list = []\n",
        "\n",
        "while data_list:\n",
        "    minimum = data_list[0]  # arbitrary number in list \n",
        "    for x in data_list: \n",
        "        if x > minimum:\n",
        "            minimum = x\n",
        "    new_list.append(minimum)\n",
        "    data_list.remove(minimum)    \n",
        "\n",
        "print(new_list)"
      ],
      "execution_count": null,
      "outputs": [
        {
          "output_type": "stream",
          "text": [
            "[122, 78, 64, 55, 44, 34, 25, 24, 23, 22, 12, 11, 3, 2, 1]\n"
          ],
          "name": "stdout"
        }
      ]
    },
    {
      "cell_type": "markdown",
      "metadata": {
        "id": "ASIN5izeXLJF"
      },
      "source": [
        "#4. Write a Python program to print Fibonacci Series"
      ]
    },
    {
      "cell_type": "code",
      "metadata": {
        "id": "cF8iHBKOVu3s",
        "colab": {
          "base_uri": "https://localhost:8080/",
          "height": 235
        },
        "outputId": "fb202e3a-970d-477d-f3a4-5ee4059a85c4"
      },
      "source": [
        "def F(n):\n",
        "    if n == 0: return 0\n",
        "    elif n == 1: return 1\n",
        "    else: return F(n-1)+F(n-2)\n",
        "\n",
        "for i in range(0,12):\n",
        "  print(F(i))"
      ],
      "execution_count": null,
      "outputs": [
        {
          "output_type": "stream",
          "text": [
            "0\n",
            "1\n",
            "1\n",
            "2\n",
            "3\n",
            "5\n",
            "8\n",
            "13\n",
            "21\n",
            "34\n",
            "55\n",
            "89\n"
          ],
          "name": "stdout"
        }
      ]
    },
    {
      "cell_type": "markdown",
      "metadata": {
        "id": "esezmKV5UaIS"
      },
      "source": [
        "#5. Write a Python program to print a list in reverse"
      ]
    },
    {
      "cell_type": "code",
      "metadata": {
        "id": "L4fez_axRgML",
        "colab": {
          "base_uri": "https://localhost:8080/",
          "height": 35
        },
        "outputId": "30d7b339-b449-43dc-cc99-eb9041fa8081"
      },
      "source": [
        "li = [21,1,3,4,5,6,7,8,9,19,34,36,48,50,51]\n",
        "\n",
        "def rev(l):\n",
        "  return l[::-1]\n",
        "\n",
        "rev(li)\n",
        "\n",
        "\n"
      ],
      "execution_count": null,
      "outputs": [
        {
          "output_type": "execute_result",
          "data": {
            "text/plain": [
              "[51, 50, 48, 36, 34, 19, 9, 8, 7, 6, 5, 4, 3, 1, 21]"
            ]
          },
          "metadata": {
            "tags": []
          },
          "execution_count": 9
        }
      ]
    },
    {
      "cell_type": "markdown",
      "metadata": {
        "id": "Zic-OD2cVtl7"
      },
      "source": [
        "#6. Write a Python program to check whether a string is a Palindrome or not (Hint: A palindrome is a word, phrase, number or sequence of words that reads the same backward as forward. e.g. Madam)"
      ]
    },
    {
      "cell_type": "code",
      "metadata": {
        "id": "yKrz_kTHT6BZ",
        "colab": {
          "base_uri": "https://localhost:8080/",
          "height": 35
        },
        "outputId": "45e40990-16c6-425e-ff5e-20629cd9980a"
      },
      "source": [
        "def isPalindrome(s): \n",
        "      \n",
        "    # Using predefined function to  \n",
        "    # reverse to string print(s) \n",
        "    rev = ''.join(reversed(s)) \n",
        "  \n",
        "    # Checking if both string are  \n",
        "    # equal or not \n",
        "    if (s == rev): \n",
        "        return True\n",
        "    return False\n",
        "isPalindrome(\"madam\")\n"
      ],
      "execution_count": null,
      "outputs": [
        {
          "output_type": "execute_result",
          "data": {
            "text/plain": [
              "True"
            ]
          },
          "metadata": {
            "tags": []
          },
          "execution_count": 14
        }
      ]
    },
    {
      "cell_type": "markdown",
      "metadata": {
        "id": "fQkkNfY4zHao"
      },
      "source": [
        "    Data Scientist Interview\n",
        "   \n",
        "   \n",
        "    Python \n",
        "\n",
        "      C\n",
        "        o\n",
        "          D\n",
        "            E\n",
        "               \n",
        "                H\n",
        "                  E\n",
        "                    R\n",
        "                      **E**\n",
        "       \n",
        "        \n",
        "         \n",
        "          \n",
        "           \n",
        "            \n",
        "             \n",
        "              \n",
        "               "
      ]
    },
    {
      "cell_type": "markdown",
      "metadata": {
        "id": "xeVnKsWnYaSU"
      },
      "source": [
        "#7. Write a Python program to print set of duplicates in a list"
      ]
    },
    {
      "cell_type": "code",
      "metadata": {
        "id": "9GqbRj9GVaVL",
        "colab": {
          "base_uri": "https://localhost:8080/",
          "height": 35
        },
        "outputId": "3b543ece-6aea-40f6-bcef-cfc4b33e1bde"
      },
      "source": [
        "l = [1,2,3,4,4,5,5,6,1]\n",
        "print(set([x for x in l if l.count(x) > 1]))\n",
        "\n"
      ],
      "execution_count": null,
      "outputs": [
        {
          "output_type": "stream",
          "text": [
            "{1, 4, 5}\n"
          ],
          "name": "stdout"
        }
      ]
    },
    {
      "cell_type": "markdown",
      "metadata": {
        "id": "iwhxFLJ7hiOd"
      },
      "source": [
        ""
      ]
    },
    {
      "cell_type": "markdown",
      "metadata": {
        "id": "K4PQ3xv3gfrj"
      },
      "source": [
        "#8. Write a Python program to print number of words in a given sentence"
      ]
    },
    {
      "cell_type": "code",
      "metadata": {
        "id": "_AN_7yHbYpia",
        "colab": {
          "base_uri": "https://localhost:8080/",
          "height": 35
        },
        "outputId": "982277d4-cd77-4588-8ff4-e4dc9282d7b0"
      },
      "source": [
        "s = 'I am having a very nice day.'\n",
        "\n",
        "print(len(s.split()))\n",
        "\n"
      ],
      "execution_count": null,
      "outputs": [
        {
          "output_type": "stream",
          "text": [
            "7\n"
          ],
          "name": "stdout"
        }
      ]
    },
    {
      "cell_type": "markdown",
      "metadata": {
        "id": "N47nMS13Iciq"
      },
      "source": [
        "#9. Given an array arr[] of n elements, write a Python function to search a given element x in arr[]."
      ]
    },
    {
      "cell_type": "code",
      "metadata": {
        "id": "583UCCdZIa1K",
        "colab": {
          "base_uri": "https://localhost:8080/",
          "height": 35
        },
        "outputId": "b9d469c1-01a7-4a0c-c76c-89bf0fa9fc07"
      },
      "source": [
        "def search(arr, x): \n",
        "  \n",
        "    for i in range(len(arr)): \n",
        "  \n",
        "        if arr[i] == x: \n",
        "            return i \n",
        "        \n",
        "    print('Not present in the list')\n",
        "    \n",
        "\n",
        "\n",
        "l = [1,2,3,4,4,5,5,6,1]\n",
        "\n",
        "search(l,4)\n",
        "\n",
        "\n"
      ],
      "execution_count": null,
      "outputs": [
        {
          "output_type": "execute_result",
          "data": {
            "text/plain": [
              "3"
            ]
          },
          "metadata": {
            "tags": []
          },
          "execution_count": 18
        }
      ]
    },
    {
      "cell_type": "markdown",
      "metadata": {
        "id": "UjoQeJPaOhD6"
      },
      "source": [
        "#10. Write a Python program to implement a Binary Search"
      ]
    },
    {
      "cell_type": "code",
      "metadata": {
        "id": "4U8LP212NdUk",
        "colab": {
          "base_uri": "https://localhost:8080/",
          "height": 35
        },
        "outputId": "eede76ab-2728-4cfb-b0cc-e592e4f949b2"
      },
      "source": [
        "def binary_search(array, target):\n",
        "    lower = 0\n",
        "    upper = len(array)\n",
        "    while lower < upper:   # use < instead of <=\n",
        "        x = lower + (upper - lower) // 2\n",
        "        val = array[x]\n",
        "        if target == val:\n",
        "            return x\n",
        "        elif target > val:\n",
        "            if lower == x:   # these two are the actual lines\n",
        "                break        # you're looking for\n",
        "            lower = x\n",
        "        elif target < val:\n",
        "            upper = x\n",
        "\n",
        "\n",
        "\n",
        "\n",
        "binary_search(l,5)"
      ],
      "execution_count": null,
      "outputs": [
        {
          "output_type": "execute_result",
          "data": {
            "text/plain": [
              "6"
            ]
          },
          "metadata": {
            "tags": []
          },
          "execution_count": 20
        }
      ]
    },
    {
      "cell_type": "code",
      "metadata": {
        "id": "uYrEOMzHTMIj"
      },
      "source": [
        ""
      ],
      "execution_count": null,
      "outputs": []
    },
    {
      "cell_type": "markdown",
      "metadata": {
        "id": "epwFjtSaUSD0"
      },
      "source": [
        "#11. Write a Python program to plot a simple bar chart"
      ]
    },
    {
      "cell_type": "code",
      "metadata": {
        "id": "vMl3e08mT3lk",
        "colab": {
          "base_uri": "https://localhost:8080/",
          "height": 276
        },
        "outputId": "71a9202e-3071-458c-d175-47bf337c609d"
      },
      "source": [
        "# import pandas and matplotlib \n",
        "import pandas as pd \n",
        "import matplotlib.pyplot as plt \n",
        "\n",
        "# create 2D array of table given above \n",
        "data = [['E001', 'M', 34, 123, 'Normal', 350], \n",
        "\t\t['E002', 'F', 40, 114, 'Overweight', 450], \n",
        "\t\t['E003', 'F', 37, 135, 'Obesity', 169], \n",
        "\t\t['E004', 'M', 30, 139, 'Underweight', 189], \n",
        "\t\t['E005', 'F', 44, 117, 'Underweight', 183], \n",
        "\t\t['E006', 'M', 36, 121, 'Normal', 80], \n",
        "\t\t['E007', 'M', 32, 133, 'Obesity', 166], \n",
        "\t\t['E008', 'F', 26, 140, 'Normal', 120], \n",
        "\t\t['E009', 'M', 32, 133, 'Normal', 75], \n",
        "\t\t['E010', 'M', 36, 133, 'Underweight', 40] ] \n",
        "\n",
        "# dataframe created with \n",
        "# the above data array \n",
        "df = pd.DataFrame(data, columns = ['EMPID', 'Gender', \n",
        "\t\t\t\t\t\t\t\t\t'Age', 'Sales', \n",
        "\t\t\t\t\t\t\t\t\t'BMI', 'Income'] ) \n",
        "\n",
        "df.plot.bar() \n",
        "  \n",
        "# plot between 2 attributes \n",
        "plt.bar(df['Age'], df['Sales']) \n",
        "plt.xlabel(\"Age\") \n",
        "plt.ylabel(\"Sales\") \n",
        "plt.show() "
      ],
      "execution_count": null,
      "outputs": [
        {
          "output_type": "display_data",
          "data": {
            "image/png": "[encoded data removed]",
            "text/plain": [
              "<Figure size 432x288 with 1 Axes>"
            ]
          },
          "metadata": {
            "tags": []
          }
        }
      ]
    },
    {
      "cell_type": "markdown",
      "metadata": {
        "id": "tFriBTxXWdy2"
      },
      "source": [
        "#12. Write a Python program to join two strings (Hint: using join())\n"
      ]
    },
    {
      "cell_type": "code",
      "metadata": {
        "id": "wOUoCIOUT3w7",
        "colab": {
          "base_uri": "https://localhost:8080/",
          "height": 72
        },
        "outputId": "9c6c287c-64d2-4039-8a00-4dee87756d83"
      },
      "source": [
        "# Using join() \n",
        "  \n",
        "# initializing string  \n",
        "test_string = \"GFG\"\n",
        "  \n",
        "# initializing add_string \n",
        "add_string = \" is best\"\n",
        "  \n",
        "# printing original string  \n",
        "print(\"The original string : \" + str(test_string)) \n",
        "  \n",
        "# printing original add string  \n",
        "print(\"The add string : \" + str(add_string)) \n",
        "  \n",
        "# Using join() \n",
        "# adding one string to another  \n",
        "res = \"\".join((test_string, add_string)) \n",
        "  \n",
        "# print result \n",
        "print(\"The concatenated string is : \" + res) "
      ],
      "execution_count": null,
      "outputs": [
        {
          "output_type": "stream",
          "text": [
            "The original string : GFG\n",
            "The add string :  is best\n",
            "The concatenated string is : GFG is best\n"
          ],
          "name": "stdout"
        }
      ]
    },
    {
      "cell_type": "markdown",
      "metadata": {
        "id": "OCkot9gef2NI"
      },
      "source": [
        "#13. Write a Python program to extract digits from given string"
      ]
    },
    {
      "cell_type": "code",
      "metadata": {
        "id": "HJnsGU_DWvf0",
        "colab": {
          "base_uri": "https://localhost:8080/",
          "height": 54
        },
        "outputId": "d82ca528-d00c-41dc-bb02-0d08c16e051d"
      },
      "source": [
        "# initializing string \n",
        "test_string = \"1w3e4r5t6y7u7i8i\"\n",
        "  \n",
        "# printing original strings   \n",
        "print(\"The original string : \" + test_string) \n",
        "  \n",
        "# using join() + isdigit() + filter() \n",
        "# Extract digit string  \n",
        "res = ''.join(filter(lambda i: i.isdigit(), test_string)) \n",
        "      \n",
        "# print result \n",
        "print(\"The digits string is : \" + str(res))\n",
        "\n",
        "\n",
        "\n"
      ],
      "execution_count": null,
      "outputs": [
        {
          "output_type": "stream",
          "text": [
            "The original string : 1w3e4r5t6y7u7i8i\n",
            "The digits string is : 13456778\n"
          ],
          "name": "stdout"
        }
      ]
    },
    {
      "cell_type": "markdown",
      "metadata": {
        "id": "rqeSHeathnl-"
      },
      "source": [
        "#14. Write a Python program to split strings using newline delimiter"
      ]
    },
    {
      "cell_type": "code",
      "metadata": {
        "id": "-UiL9GQqgGyv",
        "colab": {
          "base_uri": "https://localhost:8080/",
          "height": 54
        },
        "outputId": "775e00d9-5f20-41ad-f767-f3e754e21dc8"
      },
      "source": [
        "# Initialising string \n",
        "ini_str = 'This is a test program'\n",
        "  \n",
        "# Printing Initial string \n",
        "print (\"Initial String\", ini_str) \n",
        "  \n",
        "# Splitting on newline delimiter \n",
        "res_list = (ini_str.rstrip().split(' ')) \n",
        "  \n",
        "# Printing result \n",
        "print(\"Resultant prefix\", str(res_list))"
      ],
      "execution_count": null,
      "outputs": [
        {
          "output_type": "stream",
          "text": [
            "Initial String This is a test program\n",
            "Resultant prefix ['This', 'is', 'a', 'test', 'program']\n"
          ],
          "name": "stdout"
        }
      ]
    },
    {
      "cell_type": "markdown",
      "metadata": {
        "id": "g5nsRc9Phauq"
      },
      "source": [
        "\n",
        "#15. Given a string as your input, delete any reoccurring character, and return the new string.\n"
      ]
    },
    {
      "cell_type": "code",
      "metadata": {
        "id": "S5V8c6BPeE1j",
        "colab": {
          "base_uri": "https://localhost:8080/",
          "height": 35
        },
        "outputId": "371ada94-9f8d-4445-9966-b4d6e1f959e1"
      },
      "source": [
        "def deleteReoccurringCharacters(string):\n",
        "\n",
        "  seenCharacters = set()\n",
        "  outputString = ''\n",
        "  for char in string:\n",
        "    if char not in seenCharacters:\n",
        "      seenCharacters.add(char)\n",
        "      outputString += char    \n",
        "  return outputString\n",
        "\n",
        "\n",
        "deleteReoccurringCharacters(\"mississippi\")\n",
        "\n",
        "\n",
        "\n"
      ],
      "execution_count": null,
      "outputs": [
        {
          "output_type": "execute_result",
          "data": {
            "text/plain": [
              "'misp'"
            ]
          },
          "metadata": {
            "tags": []
          },
          "execution_count": 25
        }
      ]
    }
  ]
}